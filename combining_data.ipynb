{
 "cells": [
  {
   "cell_type": "markdown",
   "metadata": {},
   "source": [
    "# Combining Data\n",
    "\n",
    "The purpose of this notebook is to make one giant CSV module, out of the many image files in the dataset, which are scattered across different folders."
   ]
  },
  {
   "cell_type": "markdown",
   "metadata": {},
   "source": [
    "## Imports"
   ]
  },
  {
   "cell_type": "code",
   "execution_count": 1,
   "metadata": {},
   "outputs": [],
   "source": [
    "import pandas as pd\n",
    "import glob\n",
    "import rarfile"
   ]
  },
  {
   "cell_type": "markdown",
   "metadata": {},
   "source": [
    "## Creating a DataFrame for the Images in Each Folder\n",
    "\n",
    "This is a **binary classification** problem. Here is what the labels I'm assigning mean:\n",
    "\n",
    "- 0 - there is NO FIRE detected in the image\n",
    "- 1 - there is a FIRE detected in the image"
   ]
  },
  {
   "cell_type": "code",
   "execution_count": 35,
   "metadata": {},
   "outputs": [],
   "source": [
    "def make_df(folder, label):\n",
    "    \"\"\"Returns a pandas.DataFrame object from the folder.\"\"\"\n",
    "    # read data from the folder\n",
    "    with folder as f:\n",
    "        # list of entire file paths\n",
    "        file_paths = f.namelist()\n",
    "        # list of folder names separated from file names\n",
    "        ls_folders, ls_files, ls_labels = list(), list(), list()\n",
    "        # last item is folder is the folder itself, so we ignore last item\n",
    "        for path in file_paths[:-1]:\n",
    "            folder, file = path.split('/')\n",
    "            # add values for each list\n",
    "            ls_folders.append(folder)\n",
    "            ls_files.append(file)\n",
    "            ls_labels.append(label)\n",
    "        # create a DataFrame\n",
    "        data = {\n",
    "            'Folder': ls_folders,\n",
    "            'filename': ls_files,\n",
    "            'label': ls_labels\n",
    "        }\n",
    "        df_fire = pd.DataFrame(data)\n",
    "        return df_fire"
   ]
  },
  {
   "cell_type": "markdown",
   "metadata": {},
   "source": [
    "### Collect DataFrames for All Folders Together"
   ]
  },
  {
   "cell_type": "code",
   "execution_count": 36,
   "metadata": {},
   "outputs": [
    {
     "data": {
      "text/html": [
       "<div>\n",
       "<style scoped>\n",
       "    .dataframe tbody tr th:only-of-type {\n",
       "        vertical-align: middle;\n",
       "    }\n",
       "\n",
       "    .dataframe tbody tr th {\n",
       "        vertical-align: top;\n",
       "    }\n",
       "\n",
       "    .dataframe thead th {\n",
       "        text-align: right;\n",
       "    }\n",
       "</style>\n",
       "<table border=\"1\" class=\"dataframe\">\n",
       "  <thead>\n",
       "    <tr style=\"text-align: right;\">\n",
       "      <th></th>\n",
       "      <th>Folder</th>\n",
       "      <th>filename</th>\n",
       "      <th>label</th>\n",
       "    </tr>\n",
       "  </thead>\n",
       "  <tbody>\n",
       "    <tr>\n",
       "      <th>0</th>\n",
       "      <td>Normal Images 4</td>\n",
       "      <td>mps-conv-store-model2.jpg</td>\n",
       "      <td>0</td>\n",
       "    </tr>\n",
       "    <tr>\n",
       "      <th>1</th>\n",
       "      <td>Normal Images 4</td>\n",
       "      <td>mr_00098143.jpg</td>\n",
       "      <td>0</td>\n",
       "    </tr>\n",
       "    <tr>\n",
       "      <th>2</th>\n",
       "      <td>Normal Images 4</td>\n",
       "      <td>Multipurpose-home-office-design-with-unique-ta...</td>\n",
       "      <td>0</td>\n",
       "    </tr>\n",
       "    <tr>\n",
       "      <th>3</th>\n",
       "      <td>Normal Images 4</td>\n",
       "      <td>MW-AU747_wolf_t_20120924164002_MG.jpg</td>\n",
       "      <td>0</td>\n",
       "    </tr>\n",
       "    <tr>\n",
       "      <th>4</th>\n",
       "      <td>Normal Images 4</td>\n",
       "      <td>n36036_kitchen_01.jpg</td>\n",
       "      <td>0</td>\n",
       "    </tr>\n",
       "  </tbody>\n",
       "</table>\n",
       "</div>"
      ],
      "text/plain": [
       "            Folder                                           filename  label\n",
       "0  Normal Images 4                          mps-conv-store-model2.jpg      0\n",
       "1  Normal Images 4                                    mr_00098143.jpg      0\n",
       "2  Normal Images 4  Multipurpose-home-office-design-with-unique-ta...      0\n",
       "3  Normal Images 4              MW-AU747_wolf_t_20120924164002_MG.jpg      0\n",
       "4  Normal Images 4                              n36036_kitchen_01.jpg      0"
      ]
     },
     "execution_count": 36,
     "metadata": {},
     "output_type": "execute_result"
    }
   ],
   "source": [
    "ls_df = list()\n",
    "\n",
    "# add all the images with no fire\n",
    "for path in glob.glob('Fire-Detection-Image-Dataset/Normal Images*'):\n",
    "    folder = rarfile.RarFile(path)\n",
    "    df_no_fire = make_df(folder, 0)\n",
    "    ls_df.append(df_no_fire)\n",
    "    \n",
    "    \n",
    "# add the images with fire\n",
    "for filepath in glob.glob('Fire-Detection-Image-Dataset/Fire Images*'):\n",
    "    pass\n"
   ]
  },
  {
   "cell_type": "code",
   "execution_count": null,
   "metadata": {},
   "outputs": [],
   "source": []
  }
 ],
 "metadata": {
  "kernelspec": {
   "display_name": "Python 3",
   "language": "python",
   "name": "python3"
  },
  "language_info": {
   "codemirror_mode": {
    "name": "ipython",
    "version": 3
   },
   "file_extension": ".py",
   "mimetype": "text/x-python",
   "name": "python",
   "nbconvert_exporter": "python",
   "pygments_lexer": "ipython3",
   "version": "3.7.6"
  }
 },
 "nbformat": 4,
 "nbformat_minor": 4
}
