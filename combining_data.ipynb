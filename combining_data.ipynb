{
 "cells": [
  {
   "cell_type": "markdown",
   "metadata": {},
   "source": [
    "# Combining Data\n",
    "\n",
    "The purpose of this notebook is to make one giant CSV module, out of the many image files in the dataset, which are scattered across different folders."
   ]
  },
  {
   "cell_type": "markdown",
   "metadata": {},
   "source": [
    "## Imports"
   ]
  },
  {
   "cell_type": "code",
   "execution_count": 1,
   "metadata": {},
   "outputs": [],
   "source": [
    "import pandas as pd\n",
    "import glob\n",
    "import rarfile"
   ]
  },
  {
   "cell_type": "markdown",
   "metadata": {},
   "source": [
    "## Creating a DataFrame for the Images in Each Folder\n",
    "\n",
    "This is a **binary classification** problem. Here is what the labels I'm assigning mean:\n",
    "\n",
    "- 0 - there is NO FIRE detected in the image\n",
    "- 1 - there is a FIRE detected in the image"
   ]
  },
  {
   "cell_type": "code",
   "execution_count": 2,
   "metadata": {},
   "outputs": [],
   "source": [
    "def make_df(folder, label):\n",
    "    \"\"\"Returns a pandas.DataFrame object from the RAR folder.\n",
    "      \n",
    "       Parameters:\n",
    "       folder(RarFile): Bytes-like object oof the RAR directory\n",
    "       label(int): binary classification for all images in this\n",
    "                   directory\n",
    "                   \n",
    "       Returns: pandas.DataFrame object of the data\n",
    "                Columns: ['Folder', 'filename', 'label']\n",
    "    \n",
    "    \"\"\"\n",
    "    # read data from the folder\n",
    "    with folder as f:\n",
    "        # list of entire file paths\n",
    "        file_paths = f.namelist()\n",
    "        # list of folder names separated from file names\n",
    "        ls_folders, ls_files, ls_labels = list(), list(), list()\n",
    "        # last item is folder is the folder itself, so we ignore last item\n",
    "        for path in file_paths[:-1]:\n",
    "            folder, file = path.split('/')\n",
    "            # add values for each list\n",
    "            ls_folders.append(folder)\n",
    "            ls_files.append(file)\n",
    "            ls_labels.append(label)\n",
    "        # create a DataFrame\n",
    "        data = {\n",
    "            'Folder': ls_folders,\n",
    "            'filename': ls_files,\n",
    "            'label': ls_labels\n",
    "        }\n",
    "        df_fire = pd.DataFrame(data)\n",
    "        return df_fire"
   ]
  },
  {
   "cell_type": "markdown",
   "metadata": {},
   "source": [
    "### Collect DataFrames for All Folders Together"
   ]
  },
  {
   "cell_type": "code",
   "execution_count": 3,
   "metadata": {},
   "outputs": [],
   "source": [
    "def add_df_to_list(is_normal):\n",
    "    \"\"\"Add DataFrame objects to an overall collection.\n",
    "    \n",
    "       Parameter:\n",
    "       is_normal(bool): determines kind of paths to search,\n",
    "                        and label to put in DataFrames created\n",
    "                        \n",
    "       Returns:\n",
    "       list: ls_df is a list of the DataFrame objects\n",
    "            created\n",
    "    \n",
    "    \"\"\"\n",
    "    ls_df = list()\n",
    "    # define variables for type of images being added\n",
    "    data_path = 'Fire-Detection-Image-Dataset/'\n",
    "    if is_normal is True:\n",
    "        data_path += 'Normal Images*'\n",
    "        label = 0\n",
    "    else:\n",
    "        data_path += 'Fire Images*'\n",
    "        label = 1\n",
    "    # iterate over directories of this image type\n",
    "    for path in glob.glob(data_path):\n",
    "        folder = rarfile.RarFile(path)\n",
    "        df = make_df(folder, label)\n",
    "        ls_df.append(df)\n",
    "    return ls_df\n",
    "\n",
    "\n",
    "# add all the images with no fire\n",
    "all_df = add_df_to_list(True)\n",
    "# add the images with fire\n",
    "fire_df = add_df_to_list(False)\n",
    "all_df.append(fire_df)"
   ]
  },
  {
   "cell_type": "code",
   "execution_count": null,
   "metadata": {},
   "outputs": [],
   "source": []
  }
 ],
 "metadata": {
  "kernelspec": {
   "display_name": "Python 3",
   "language": "python",
   "name": "python3"
  },
  "language_info": {
   "codemirror_mode": {
    "name": "ipython",
    "version": 3
   },
   "file_extension": ".py",
   "mimetype": "text/x-python",
   "name": "python",
   "nbconvert_exporter": "python",
   "pygments_lexer": "ipython3",
   "version": "3.7.6"
  }
 },
 "nbformat": 4,
 "nbformat_minor": 4
}
