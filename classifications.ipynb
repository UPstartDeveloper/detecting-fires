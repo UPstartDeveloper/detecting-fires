{
 "cells": [
  {
   "cell_type": "markdown",
   "metadata": {},
   "source": [
    "# Fire Image Classification"
   ]
  },
  {
   "cell_type": "markdown",
   "metadata": {},
   "source": [
    "## Imports"
   ]
  },
  {
   "cell_type": "code",
   "execution_count": 1,
   "metadata": {},
   "outputs": [
    {
     "name": "stderr",
     "output_type": "stream",
     "text": [
      "Using TensorFlow backend.\n"
     ]
    }
   ],
   "source": [
    "import pandas as pd\n",
    "import numpy as np\n",
    "import matplotlib.pyplot as plt\n",
    "%matplotlib inline\n",
    "import seaborn as sns\n",
    "# Keras Imports\n",
    "import tensorflow as tf\n",
    "import keras\n",
    "from keras import backend as K\n",
    "# CNN and MLP architecture\n",
    "from keras.models import Sequential\n",
    "from keras.layers import (\n",
    "    Dense,\n",
    "    Conv2D,\n",
    "    MaxPooling2D,\n",
    "    UpSampling2D,\n",
    "    Dropout,\n",
    "    Flatten,\n",
    "    BatchNormalization\n",
    ")\n",
    "from keras.models import Model\n",
    "from keras.optimizers import SGD\n",
    "from keras.initializers import RandomNormal\n",
    "# Keras Callbacks\n",
    "from keras.callbacks import EarlyStopping, TensorBoard\n",
    "# Time Training\n",
    "import time\n",
    "# Data Splitting\n",
    "from sklearn.model_selection import train_test_split\n",
    "# Image Preprocessing\n",
    "from PIL import Image\n",
    "from keras.preprocessing.image import img_to_array"
   ]
  },
  {
   "cell_type": "markdown",
   "metadata": {},
   "source": [
    "## Get the Data"
   ]
  },
  {
   "cell_type": "code",
   "execution_count": 2,
   "metadata": {},
   "outputs": [],
   "source": [
    "df = pd.read_csv('Fire-Detection-Image-Dataset/fires.csv')"
   ]
  },
  {
   "cell_type": "code",
   "execution_count": 3,
   "metadata": {},
   "outputs": [
    {
     "data": {
      "text/html": [
       "<div>\n",
       "<style scoped>\n",
       "    .dataframe tbody tr th:only-of-type {\n",
       "        vertical-align: middle;\n",
       "    }\n",
       "\n",
       "    .dataframe tbody tr th {\n",
       "        vertical-align: top;\n",
       "    }\n",
       "\n",
       "    .dataframe thead th {\n",
       "        text-align: right;\n",
       "    }\n",
       "</style>\n",
       "<table border=\"1\" class=\"dataframe\">\n",
       "  <thead>\n",
       "    <tr style=\"text-align: right;\">\n",
       "      <th></th>\n",
       "      <th>Unnamed: 0</th>\n",
       "      <th>Folder</th>\n",
       "      <th>filename</th>\n",
       "      <th>label</th>\n",
       "    </tr>\n",
       "  </thead>\n",
       "  <tbody>\n",
       "    <tr>\n",
       "      <th>0</th>\n",
       "      <td>0</td>\n",
       "      <td>Normal Images 3</td>\n",
       "      <td>Hotel_Monterey_La_Soeur_Osaka_standard_twin_be...</td>\n",
       "      <td>0</td>\n",
       "    </tr>\n",
       "    <tr>\n",
       "      <th>1</th>\n",
       "      <td>1</td>\n",
       "      <td>Normal Images 3</td>\n",
       "      <td>house5.jpg</td>\n",
       "      <td>0</td>\n",
       "    </tr>\n",
       "    <tr>\n",
       "      <th>2</th>\n",
       "      <td>2</td>\n",
       "      <td>Normal Images 3</td>\n",
       "      <td>mi-plage-hawai.jpg</td>\n",
       "      <td>0</td>\n",
       "    </tr>\n",
       "    <tr>\n",
       "      <th>3</th>\n",
       "      <td>3</td>\n",
       "      <td>Normal Images 3</td>\n",
       "      <td>JB224_03_Colourful_christmas_table_setting_in_...</td>\n",
       "      <td>0</td>\n",
       "    </tr>\n",
       "    <tr>\n",
       "      <th>4</th>\n",
       "      <td>4</td>\n",
       "      <td>Normal Images 3</td>\n",
       "      <td>Interior Design Ideas (3).jpg</td>\n",
       "      <td>0</td>\n",
       "    </tr>\n",
       "  </tbody>\n",
       "</table>\n",
       "</div>"
      ],
      "text/plain": [
       "   Unnamed: 0           Folder  \\\n",
       "0           0  Normal Images 3   \n",
       "1           1  Normal Images 3   \n",
       "2           2  Normal Images 3   \n",
       "3           3  Normal Images 3   \n",
       "4           4  Normal Images 3   \n",
       "\n",
       "                                            filename  label  \n",
       "0  Hotel_Monterey_La_Soeur_Osaka_standard_twin_be...      0  \n",
       "1                                         house5.jpg      0  \n",
       "2                                 mi-plage-hawai.jpg      0  \n",
       "3  JB224_03_Colourful_christmas_table_setting_in_...      0  \n",
       "4                      Interior Design Ideas (3).jpg      0  "
      ]
     },
     "execution_count": 3,
     "metadata": {},
     "output_type": "execute_result"
    }
   ],
   "source": [
    "df.head()"
   ]
  },
  {
   "cell_type": "code",
   "execution_count": 4,
   "metadata": {},
   "outputs": [],
   "source": [
    "# define predictor and target sets of data\n",
    "features = [df.columns[1], df.columns[2]]\n",
    "target = [df.columns[3]]\n",
    "X, y = df[features], df[target]\n",
    "# Store number of class\n",
    "num_classes = 2"
   ]
  },
  {
   "cell_type": "markdown",
   "metadata": {},
   "source": [
    "## Split DataFrame Based on Label"
   ]
  },
  {
   "cell_type": "code",
   "execution_count": 5,
   "metadata": {},
   "outputs": [
    {
     "name": "stdout",
     "output_type": "stream",
     "text": [
      "Number of Training Samples: 491\n",
      "Number of Testing Samples: 160\n"
     ]
    }
   ],
   "source": [
    "# Split df into train and test, based on label\n",
    "# Credit goes to this Stack Overflow answer for the following:\n",
    "# https://stackoverflow.com/questions/24147278/how-do-i-create-test-and-train-samples-from-one-dataframe-with-pandas\n",
    "selector = np.random.rand(len(df)) < 0.75\n",
    "df_train, df_test = df[selector], df[~selector]\n",
    "print(f\"Number of Training Samples: {len(df_train)}\")\n",
    "print(f\"Number of Testing Samples: {len(df_test)}\")"
   ]
  },
  {
   "cell_type": "markdown",
   "metadata": {},
   "source": [
    "## Defining the Optimal Model "
   ]
  },
  {
   "cell_type": "markdown",
   "metadata": {},
   "source": [
    "### Build a Generator\n",
    "\n",
    "For this dataset, we'll increase the efficiency of training by loading in subsections of the dataset to train on at a time, using Python-esque generator in Keras!"
   ]
  },
  {
   "cell_type": "code",
   "execution_count": 6,
   "metadata": {},
   "outputs": [],
   "source": [
    "def data_gen(df_gen, batch_size):\n",
    "    \"\"\"Generate batches of the dataset to train the model on, one subsection at a time.\n",
    "       Credit goes to Milad Toutounchian for this implementation, originally found at:\n",
    "       https://github.com/Make-School-Courses/DS-2.2-Deep-Learning/blob/master/Final_Project/image_data_prep.ipynb\n",
    "    \n",
    "       Parameters:\n",
    "       df(DataFrame): larger portion of the datset used for training\n",
    "       batch_size(int): the number of samples to include in each batch\n",
    "       \n",
    "       Returns:\n",
    "       tuple: input features of the batch, along with corresponding labels\n",
    "    \n",
    "    \"\"\"\n",
    "    while True:\n",
    "        # list of images\n",
    "        x_batch = np.zeros((batch_size, 1024, 1024, 3))\n",
    "        # list of labels\n",
    "        y_batch = np.zeros((batch_size, 1))\n",
    "        # add samples until we reach batch size\n",
    "        for j in range(len(df_gen) // batch_size):\n",
    "            batch_index = 0\n",
    "            for index, image_file, label in zip(df_gen['Unnamed: 0'],\n",
    "                                                df_gen['filename'].values[j*batch_size:(j+1)*batch_size], \n",
    "                                                df_gen['label'].values[j*batch_size:(j+1)*batch_size]):\n",
    "                # print(f'index: {index}, image file: {image_file}')\n",
    "                filepath = f\"Fire-Detection-Image-Dataset/{df_gen['Folder'][index]}/{df_gen['filename'][index]}\"\n",
    "                # print(f'File: {filepath}')\n",
    "                img = Image.open(filepath)\n",
    "                # plt.imshow(img)\n",
    "                image_red = img.resize((1024, 1024))\n",
    "                x_batch[batch_index] = img_to_array(image_red)\n",
    "                y_batch[batch_index] = label\n",
    "                batch_index += 1\n",
    "            yield (x_batch, y_batch)"
   ]
  },
  {
   "cell_type": "markdown",
   "metadata": {},
   "source": [
    "### Finding the Best Architecture\n",
    "\n",
    "Now we'll find the optimal number of layers and neurons per layer using TensorBoard."
   ]
  },
  {
   "cell_type": "code",
   "execution_count": 7,
   "metadata": {},
   "outputs": [],
   "source": [
    "# Helper functions to Reduce Repetition of Adding Layers\n",
    "def add_conv_layer(model, layer_size, needs_input):\n",
    "    \"\"\"Add a Keras convolutional layer to the model, along with MaxPooling.\n",
    "       Will specify input shape as well if needed.\n",
    "       \n",
    "       Parameters:\n",
    "       model(Model): Neural network in Keras\n",
    "       layer_size(int): number of neurons to go in layer\n",
    "       need_input(bool): signals if the convolutional layer needs to specify\n",
    "                         the dimensions of the input\n",
    "       \n",
    "       Returns: None\n",
    "       \n",
    "    \"\"\"\n",
    "    if needs_input is True:\n",
    "        # specify input dimension for 1st conv layer\n",
    "        conv_layer = Conv2D(layer_size,\n",
    "                            kernel_size=(3, 3),\n",
    "                            activation='relu',\n",
    "                            input_shape=(1024, 1024, 3))\n",
    "\n",
    "    else:\n",
    "        # otherwise all other convolutional layers don't need it\n",
    "        conv_layer = Conv2D(layer_size,\n",
    "                            kernel_size=(3, 3),\n",
    "                            activation='relu')\n",
    "    # add Convolutional layer\n",
    "    model.add(conv_layer)  \n",
    "    # add MaxPooling layer\n",
    "    model.add(MaxPooling2D(pool_size=(2, 2)))  # no learning params\n",
    "    return None\n",
    "                  \n",
    "    \n",
    "def add_dense_layer(model, layer_size, is_output, drop_rate):\n",
    "    \"\"\"Add a multi-layer perceptron to the model\n",
    "       Will specify 'sigmoid' for the final layer.\n",
    "       \n",
    "       Parameters:\n",
    "       model(Model): Neural network in Keras\n",
    "       layer_size(int): number of neurons to go in layer\n",
    "       is_output(bdool): signals if the MLP is the last layer\n",
    "       drop_rate(float): percentage of connections in Dense layer\n",
    "                       to cut off\n",
    "       \n",
    "       Returns: None\n",
    "       \n",
    "    \"\"\"\n",
    "    # specify activation function\n",
    "    activation = 'relu' if is_output is False else 'sigmoid'\n",
    "    # add MLP\n",
    "    model.add(Dense(layer_size, activation=activation)) \n",
    "    # Add Drop out layer\n",
    "    model.add(Dropout(drop_rate))\n",
    "    return None\n",
    "\n",
    "\n",
    "def define_model(units, conv_layers, dense_layers, dropout):\n",
    "    \"\"\"Define a CNN + MLP model in Keras.\n",
    "    \n",
    "       Parameters:\n",
    "       units(int): number of neurons to go in a layer\n",
    "       conv_layers(int): number of convolutional layers\n",
    "       dense_layers(int): number of MLP\n",
    "       dropout(float): percentage of connections in Dense layer\n",
    "                       to cut off\n",
    "                       \n",
    "       Returns: tf.keras.Sequential: the neural network to train\n",
    "    \n",
    "    \"\"\"\n",
    "    # Instaniate model\n",
    "    model = Sequential()\n",
    "    # Add CNN layers\n",
    "    add_conv_layer(model, units, True)\n",
    "    for l in range(conv_layers - 1):\n",
    "        # add convolutional layers that come after the 1st\n",
    "        add_conv_layer(model, units, False)\n",
    "    # Flatten the data\n",
    "    model.add(Flatten())\n",
    "    # Add MLP Layers\n",
    "    for l in range(dense_layers - 1):\n",
    "        add_dense_layer(model, units, False)\n",
    "    # add final MLP, for output\n",
    "    add_dense_layer(model, 1, True, dropout)\n",
    "    # Compile Model\n",
    "    model.compile(loss=keras.losses.binary_crossentropy,\n",
    "                  optimizer=keras.optimizers.Adadelta(),\n",
    "                  metrics=['accuracy',\n",
    "                           tf.keras.metrics.Precision(),\n",
    "                           tf.keras.metrics.Recall()])\n",
    "    # Return model\n",
    "    return model"
   ]
  },
  {
   "cell_type": "code",
   "execution_count": null,
   "metadata": {},
   "outputs": [
    {
     "name": "stdout",
     "output_type": "stream",
     "text": [
      "WARNING:tensorflow:From /Users/zainraza/Downloads/dev/courses/DS/detecting-fires/env/lib/python3.7/site-packages/tensorflow_core/python/ops/resource_variable_ops.py:1630: calling BaseResourceVariable.__init__ (from tensorflow.python.ops.resource_variable_ops) with constraint is deprecated and will be removed in a future version.\n",
      "Instructions for updating:\n",
      "If using Keras pass *_constraint arguments to layers.\n",
      "WARNING:tensorflow:From /Users/zainraza/Downloads/dev/courses/DS/detecting-fires/env/lib/python3.7/site-packages/keras/backend/tensorflow_backend.py:4070: The name tf.nn.max_pool is deprecated. Please use tf.nn.max_pool2d instead.\n",
      "\n",
      "WARNING:tensorflow:From /Users/zainraza/Downloads/dev/courses/DS/detecting-fires/env/lib/python3.7/site-packages/tensorflow_core/python/ops/math_grad.py:1424: where (from tensorflow.python.ops.array_ops) is deprecated and will be removed in a future version.\n",
      "Instructions for updating:\n",
      "Use tf.where in 2.0, which has the same broadcast rule as np.where\n",
      "WARNING:tensorflow:From /Users/zainraza/Downloads/dev/courses/DS/detecting-fires/env/lib/python3.7/site-packages/keras/backend/tensorflow_backend.py:422: The name tf.global_variables is deprecated. Please use tf.compat.v1.global_variables instead.\n",
      "\n",
      "WARNING:tensorflow:From /Users/zainraza/Downloads/dev/courses/DS/detecting-fires/env/lib/python3.7/site-packages/keras/callbacks/tensorboard_v1.py:200: The name tf.summary.merge_all is deprecated. Please use tf.compat.v1.summary.merge_all instead.\n",
      "\n",
      "WARNING:tensorflow:From /Users/zainraza/Downloads/dev/courses/DS/detecting-fires/env/lib/python3.7/site-packages/keras/callbacks/tensorboard_v1.py:203: The name tf.summary.FileWriter is deprecated. Please use tf.compat.v1.summary.FileWriter instead.\n",
      "\n",
      "Epoch 1/5\n",
      "24/24 [==============================] - 63s 3s/step - loss: 4.0812 - accuracy: 0.7354 - precision: 0.0000e+00 - recall: 0.0000e+00 - val_loss: 15.4249 - val_accuracy: 0.0000e+00 - val_precision: 0.0000e+00 - val_recall: 0.0000e+00\n",
      "WARNING:tensorflow:From /Users/zainraza/Downloads/dev/courses/DS/detecting-fires/env/lib/python3.7/site-packages/keras/callbacks/tensorboard_v1.py:343: The name tf.Summary is deprecated. Please use tf.compat.v1.Summary instead.\n",
      "\n",
      "Epoch 2/5\n",
      "24/24 [==============================] - 67s 3s/step - loss: 7.2947 - accuracy: 0.5271 - precision: 0.0000e+00 - recall: 0.0000e+00 - val_loss: 15.4249 - val_accuracy: 0.0000e+00 - val_precision: 0.0000e+00 - val_recall: 0.0000e+00\n",
      "Epoch 3/5\n",
      "24/24 [==============================] - 67s 3s/step - loss: 8.8051 - accuracy: 0.4292 - precision: 0.0000e+00 - recall: 0.0000e+00 - val_loss: 15.4249 - val_accuracy: 0.0000e+00 - val_precision: 0.0000e+00 - val_recall: 0.0000e+00\n",
      "Epoch 4/5\n",
      "24/24 [==============================] - 66s 3s/step - loss: 8.8372 - accuracy: 0.4271 - precision: 0.0000e+00 - recall: 0.0000e+00 - val_loss: 15.4249 - val_accuracy: 0.0000e+00 - val_precision: 0.0000e+00 - val_recall: 0.0000e+00\n",
      "Epoch 5/5\n",
      "24/24 [==============================] - 66s 3s/step - loss: 8.8051 - accuracy: 0.4292 - precision: 0.0000e+00 - recall: 0.0000e+00 - val_loss: 15.4249 - val_accuracy: 0.0000e+00 - val_precision: 0.0000e+00 - val_recall: 0.0000e+00\n",
      "Epoch 1/5\n",
      "24/24 [==============================] - 89s 4s/step - loss: 6.2664 - accuracy: 0.5938 - precision_1: 0.0000e+00 - recall_1: 0.0000e+00 - val_loss: 15.4249 - val_accuracy: 0.0000e+00 - val_precision_1: 0.0000e+00 - val_recall_1: 0.0000e+00\n",
      "Epoch 2/5\n",
      "24/24 [==============================] - 87s 4s/step - loss: 8.8051 - accuracy: 0.4292 - precision_1: 0.0000e+00 - recall_1: 0.0000e+00 - val_loss: 15.4249 - val_accuracy: 0.0000e+00 - val_precision_1: 0.0000e+00 - val_recall_1: 0.0000e+00\n",
      "Epoch 3/5\n",
      "24/24 [==============================] - 90s 4s/step - loss: 8.8372 - accuracy: 0.4271 - precision_1: 0.0000e+00 - recall_1: 0.0000e+00 - val_loss: 15.4249 - val_accuracy: 0.0000e+00 - val_precision_1: 0.0000e+00 - val_recall_1: 0.0000e+00\n",
      "Epoch 4/5\n",
      "24/24 [==============================] - 81s 3s/step - loss: 8.8051 - accuracy: 0.4292 - precision_1: 0.0000e+00 - recall_1: 0.0000e+00 - val_loss: 15.4249 - val_accuracy: 0.0000e+00 - val_precision_1: 0.0000e+00 - val_recall_1: 0.0000e+00\n",
      "Epoch 5/5\n",
      "24/24 [==============================] - 81s 3s/step - loss: 8.8051 - accuracy: 0.4292 - precision_1: 0.0000e+00 - recall_1: 0.0000e+00 - val_loss: 15.4249 - val_accuracy: 0.0000e+00 - val_precision_1: 0.0000e+00 - val_recall_1: 0.0000e+00\n",
      "Epoch 1/5\n",
      "24/24 [==============================] - 88s 4s/step - loss: 8.3124 - accuracy: 0.4583 - precision_2: 0.1124 - recall_2: 0.3392 - val_loss: 0.0000e+00 - val_accuracy: 1.0000 - val_precision_2: 0.5270 - val_recall_2: 0.8726\n",
      "Epoch 2/5\n",
      "24/24 [==============================] - 85s 4s/step - loss: 7.0377 - accuracy: 0.5417 - precision_2: 0.5195 - recall_2: 0.8835 - val_loss: 0.0000e+00 - val_accuracy: 1.0000 - val_precision_2: 0.6179 - val_recall_2: 0.8780\n",
      "Epoch 3/5\n",
      "24/24 [==============================] - 96s 4s/step - loss: 6.8143 - accuracy: 0.5562 - precision_2: 0.5980 - recall_2: 0.8816 - val_loss: 0.0000e+00 - val_accuracy: 1.0000 - val_precision_2: 0.6479 - val_recall_2: 0.8780\n",
      "Epoch 4/5\n",
      "24/24 [==============================] - 130s 5s/step - loss: 7.3600 - accuracy: 0.5208 - precision_2: 0.6270 - recall_2: 0.8764 - val_loss: 0.0000e+00 - val_accuracy: 1.0000 - val_precision_2: 0.6592 - val_recall_2: 0.8692\n",
      "Epoch 5/5\n",
      "24/24 [==============================] - 116s 5s/step - loss: 6.8127 - accuracy: 0.5562 - precision_2: 0.6418 - recall_2: 0.8727 - val_loss: 0.0000e+00 - val_accuracy: 1.0000 - val_precision_2: 0.6674 - val_recall_2: 0.8751\n",
      "Epoch 1/5\n",
      "24/24 [==============================] - 78s 3s/step - loss: 5.2378 - accuracy: 0.6604 - precision_3: 0.0000e+00 - recall_3: 0.0000e+00 - val_loss: 15.4249 - val_accuracy: 0.0000e+00 - val_precision_3: 0.0000e+00 - val_recall_3: 0.0000e+00\n",
      "Epoch 2/5\n",
      "24/24 [==============================] - 77s 3s/step - loss: 8.8051 - accuracy: 0.4292 - precision_3: 0.0000e+00 - recall_3: 0.0000e+00 - val_loss: 15.4249 - val_accuracy: 0.0000e+00 - val_precision_3: 0.0000e+00 - val_recall_3: 0.0000e+00\n",
      "Epoch 3/5\n",
      "24/24 [==============================] - 79s 3s/step - loss: 8.8051 - accuracy: 0.4292 - precision_3: 0.0000e+00 - recall_3: 0.0000e+00 - val_loss: 15.4249 - val_accuracy: 0.0000e+00 - val_precision_3: 0.0000e+00 - val_recall_3: 0.0000e+00\n",
      "Epoch 4/5\n",
      " 8/24 [=========>....................] - ETA: 44s - loss: 0.0000e+00 - accuracy: 1.0000 - precision_3: 0.0000e+00 - recall_3: 0.0000e+00"
     ]
    }
   ],
   "source": [
    "# Choices for the Model Architecture - values arbitrary\n",
    "dense_layers = [1, 2, 3]\n",
    "layer_sizes = [4, 8, 16]\n",
    "conv_layers = [1, 2, 3]\n",
    "\n",
    "# try different combinations!\n",
    "# These for loops come from https://youtu.be/lV09_8432VA\n",
    "for dense_layer in dense_layers:\n",
    "    for size in layer_sizes:\n",
    "        for conv in conv_layers:\n",
    "            # name the combo\n",
    "            NAME = (\n",
    "                f'{conv}-conv-{size}-nodes' +\n",
    "                f'-{dense_layer}-dense_layers' + \n",
    "                f'-{int(time.time())}'\n",
    "            )\n",
    "            # Instantiate TensorBoard to visualize model performance\n",
    "            tensorboard = TensorBoard(log_dir=f'./Graph/{NAME}')\n",
    "            # Define Model\n",
    "            model = define_model(size, conv, dense_layer, 0.2)\n",
    "            # Train the Model (using a generator!)\n",
    "            epochs, batch_size = 5, 20\n",
    "            history = model.fit_generator(generator=data_gen(df_train, batch_size=batch_size),\n",
    "                                steps_per_epoch=len(df_train['label']) // batch_size,\n",
    "                                epochs=epochs,\n",
    "                                validation_data=data_gen(df_test, batch_size=batch_size),\n",
    "                                validation_steps=len(df_test['label']) // batch_size, \n",
    "                                callbacks=[tensorboard])"
   ]
  },
  {
   "cell_type": "markdown",
   "metadata": {},
   "source": [
    "###  Finding Optimal Hyperparameters\n",
    "\n",
    "Now, we'll find the optimal values for the hyperparameters using hyperas."
   ]
  },
  {
   "cell_type": "markdown",
   "metadata": {},
   "source": [
    "### Summarize the Model"
   ]
  },
  {
   "cell_type": "code",
   "execution_count": 5,
   "metadata": {},
   "outputs": [
    {
     "name": "stdout",
     "output_type": "stream",
     "text": [
      "Model: \"sequential_9\"\n",
      "_________________________________________________________________\n",
      "Layer (type)                 Output Shape              Param #   \n",
      "=================================================================\n",
      "conv2d_17 (Conv2D)           (None, 26, 26, 32)        320       \n",
      "_________________________________________________________________\n",
      "conv2d_18 (Conv2D)           (None, 24, 24, 64)        18496     \n",
      "_________________________________________________________________\n",
      "max_pooling2d_9 (MaxPooling2 (None, 12, 12, 64)        0         \n",
      "_________________________________________________________________\n",
      "flatten_9 (Flatten)          (None, 9216)              0         \n",
      "_________________________________________________________________\n",
      "dense_17 (Dense)             (None, 128)               1179776   \n",
      "_________________________________________________________________\n",
      "dense_18 (Dense)             (None, 2)                 258       \n",
      "=================================================================\n",
      "Total params: 1,198,850\n",
      "Trainable params: 1,198,850\n",
      "Non-trainable params: 0\n",
      "_________________________________________________________________\n",
      "None\n"
     ]
    }
   ],
   "source": [
    "print(model.summary())"
   ]
  },
  {
   "cell_type": "markdown",
   "metadata": {},
   "source": [
    "## Upsample the Minority Class\n",
    "\n",
    "We need more fire!"
   ]
  },
  {
   "cell_type": "markdown",
   "metadata": {},
   "source": [
    "## Data Augumentation\n",
    "\n",
    "Let's add more variation to the dataset now, in order to make the model more robust!"
   ]
  },
  {
   "cell_type": "markdown",
   "metadata": {},
   "source": [
    "## Model Evaluation"
   ]
  },
  {
   "cell_type": "markdown",
   "metadata": {},
   "source": [
    "## Final Conclusions"
   ]
  }
 ],
 "metadata": {
  "kernelspec": {
   "display_name": "DS_env",
   "language": "python",
   "name": "env"
  },
  "language_info": {
   "codemirror_mode": {
    "name": "ipython",
    "version": 3
   },
   "file_extension": ".py",
   "mimetype": "text/x-python",
   "name": "python",
   "nbconvert_exporter": "python",
   "pygments_lexer": "ipython3",
   "version": "3.7.6"
  }
 },
 "nbformat": 4,
 "nbformat_minor": 4
}
